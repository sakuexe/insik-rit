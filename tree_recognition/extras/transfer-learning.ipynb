{
 "cells": [
  {
   "cell_type": "markdown",
   "metadata": {},
   "source": [
    "# Transfer Learning\n",
    "\n",
    "In the previous Exercise, we discussed a model that had two convolutional blocks and dropout layers. However, that model is still quite basic compared to truly advanced models. Modern state-of-the-art models have tens of convolutional blocks, millions of parameters, and leverage sophisticated architectural techniques. These models are trained on massive datasets, requiring thousands of hours of GPU time, something most of us don't have the resources for.\n",
    "\n",
    "So, what’s the solution for those of us without such resources? Enter **Transfer Learning**.\n",
    "\n",
    "The concept behind transfer learning is simple. Large companies with access to immense data and computational power develop massive models and train them on vast datasets. Once these models are trained, the architecture and pre-trained weights are shared with the public, allowing others to use these models as a starting point for their own tasks. The pre-trained weights serve as the foundation, and we fine-tune them to suit our specific needs.\n",
    "\n",
    "One of the most widely known datasets used for training such models is **ImageNet**, which contains over 14 million images across 27 high-level categories and 20,000 sub-categories. Although the images cannot be directly downloaded from the ImageNet site due to copyright issues, the URLs are provided.\n",
    "\n",
    "In the early 2010s, ImageNet classification was a monumental task, leading to the creation of many famous architectures like **AlexNet**, **VGG**, **Inception**, and **ResNet**. These architectures revolutionized computer vision, and many of them were developed during the **ILSVRC** (ImageNet Large Scale Visual Recognition Challenge), which ran from 2010 to 2017.\n",
    "\n",
    "In this notebook, we will explore **ResNet**, one of the well-known architectures from the ILSVRC competition. We will revisit the **Rock Paper Scissors** dataset we used in last exercise. But this time, instead of building our own model, we'll take ResNet for a spin using PyTorch and its pre-trained weights.\n"
   ]
  },
  {
   "cell_type": "markdown",
   "metadata": {},
   "source": [
    "## 1. Importing Libraries\n",
    "\n",
    "Before we begin working on our transfer learning task, we need to import several key libraries:\n",
    "\n",
    "- **PyTorch (`torch`)**: The core deep learning library used to build and train models.\n",
    "- **`torch.nn`**: A module that provides neural network layers and operations, which will be used to define and modify our model.\n",
    "- **`torch.optim`**: A module that provides optimization algorithms, such as SGD and Adam, for training the model.\n",
    "- **`torchvision.models`**: A collection of pre-trained models, including AlexNet, which we will be using for transfer learning.\n",
    "- **`torchvision.transforms`**: A set of common transformations, such as resizing and converting images to tensors, to preprocess our image dataset.\n",
    "- **`torchvision.datasets.ImageFolder`**: A utility to load and structure image datasets stored in folders.\n",
    "- **`torch.utils.data.DataLoader`**: A utility to load data in batches and shuffle it for training.\n",
    "- **`wandb`**: Weights & Biases, a tool for tracking and visualizing machine learning experiments.\n",
    "\n",
    "In this block, we’re setting up all the necessary imports to get started with loading a pre-trained model and preparing our dataset.\n"
   ]
  },
  {
   "cell_type": "code",
   "execution_count": 1,
   "metadata": {},
   "outputs": [],
   "source": [
    "import torch\n",
    "import torch.nn as nn\n",
    "import torch.optim as optim\n",
    "from torchvision import models\n",
    "from torchvision.transforms import Compose, Resize, ToTensor\n",
    "from torchvision.datasets import ImageFolder\n",
    "from torch.utils.data import DataLoader\n",
    "# import wandb  # Import Weights & Biases"
   ]
  },
  {
   "cell_type": "markdown",
   "metadata": {},
   "source": [
    "## 2. Initializing Weights & Biases (W&B) for Experiment Tracking\n",
    "\n",
    "In this block, we initialize **Weights & Biases (W&B)** to track and log our experiment. W&B is a popular tool used in machine learning for tracking model performance, visualizing training progress, and organizing results.\n",
    "\n",
    "- **`wandb.init()`**: This initializes the W&B project and sets the configuration for the experiment.\n",
    "    - **`project`**: The name of the project on W&B. In this case, it’s called `\"resnet18-transfer-learning-hamk\"`, indicating that we will be using the ResNet18 model for transfer learning.\n",
    "    - **`config`**: A dictionary that defines key parameters of our experiment:\n",
    "        - **`epochs`**: The number of training epochs (in this case, 10).\n",
    "        - **`batch_size`**: The size of each batch during training (set to 16).\n",
    "        - **`learning_rate`**: The initial learning rate for the optimizer (set to 0.001).\n",
    "        - **`architecture`**: The pre-trained model architecture we will use (ResNet18).\n",
    "        - **`dataset`**: The name of the dataset (Rock Paper Scissors, abbreviated as \"RPS\").\n",
    "\n",
    "By using W&B, we can easily monitor our model’s performance, visualize metrics such as loss and accuracy, and compare different runs.\n"
   ]
  },
  {
   "cell_type": "code",
   "execution_count": 50,
   "metadata": {},
   "outputs": [
    {
     "data": {
      "text/html": [
       "Finishing last run (ID:uywbhi8p) before initializing another..."
      ],
      "text/plain": [
       "<IPython.core.display.HTML object>"
      ]
     },
     "metadata": {},
     "output_type": "display_data"
    },
    {
     "data": {
      "application/vnd.jupyter.widget-view+json": {
       "model_id": "1f7b7cef26f2403cb75693bf347d274b",
       "version_major": 2,
       "version_minor": 0
      },
      "text/plain": [
       "VBox(children=(Label(value='0.010 MB of 0.010 MB uploaded\\r'), FloatProgress(value=1.0, max=1.0)))"
      ]
     },
     "metadata": {},
     "output_type": "display_data"
    },
    {
     "data": {
      "text/html": [
       "<style>\n",
       "    table.wandb td:nth-child(1) { padding: 0 10px; text-align: left ; width: auto;} td:nth-child(2) {text-align: left ; width: 100%}\n",
       "    .wandb-row { display: flex; flex-direction: row; flex-wrap: wrap; justify-content: flex-start; width: 100% }\n",
       "    .wandb-col { display: flex; flex-direction: column; flex-basis: 100%; flex: 1; padding: 10px; }\n",
       "    </style>\n",
       "<div class=\"wandb-row\"><div class=\"wandb-col\"><h3>Run history:</h3><br/><table class=\"wandb\"><tr><td>Train Accuracy</td><td>▁▁▇██</td></tr><tr><td>Train Loss</td><td>▇█▃▁▁</td></tr><tr><td>Validation Accuracy</td><td>▅██▆▁</td></tr><tr><td>Validation Loss</td><td>▃▁▂▃█</td></tr></table><br/></div><div class=\"wandb-col\"><h3>Run summary:</h3><br/><table class=\"wandb\"><tr><td>Train Accuracy</td><td>99.44444</td></tr><tr><td>Train Loss</td><td>0.02823</td></tr><tr><td>Validation Accuracy</td><td>75.80645</td></tr><tr><td>Validation Loss</td><td>0.56435</td></tr></table><br/></div></div>"
      ],
      "text/plain": [
       "<IPython.core.display.HTML object>"
      ]
     },
     "metadata": {},
     "output_type": "display_data"
    },
    {
     "data": {
      "text/html": [
       " View run <strong style=\"color:#cdcd00\">floral-music-1</strong> at: <a href='https://wandb.ai/HAMKca/resnet18-transfer-learning/runs/uywbhi8p' target=\"_blank\">https://wandb.ai/HAMKca/resnet18-transfer-learning/runs/uywbhi8p</a><br/> View project at: <a href='https://wandb.ai/HAMKca/resnet18-transfer-learning' target=\"_blank\">https://wandb.ai/HAMKca/resnet18-transfer-learning</a><br/>Synced 5 W&B file(s), 0 media file(s), 0 artifact file(s) and 0 other file(s)"
      ],
      "text/plain": [
       "<IPython.core.display.HTML object>"
      ]
     },
     "metadata": {},
     "output_type": "display_data"
    },
    {
     "data": {
      "text/html": [
       "Find logs at: <code>.\\wandb\\run-20241004_155509-uywbhi8p\\logs</code>"
      ],
      "text/plain": [
       "<IPython.core.display.HTML object>"
      ]
     },
     "metadata": {},
     "output_type": "display_data"
    },
    {
     "data": {
      "text/html": [
       "Successfully finished last run (ID:uywbhi8p). Initializing new run:<br/>"
      ],
      "text/plain": [
       "<IPython.core.display.HTML object>"
      ]
     },
     "metadata": {},
     "output_type": "display_data"
    },
    {
     "data": {
      "text/html": [
       "Tracking run with wandb version 0.18.3"
      ],
      "text/plain": [
       "<IPython.core.display.HTML object>"
      ]
     },
     "metadata": {},
     "output_type": "display_data"
    },
    {
     "data": {
      "text/html": [
       "Run data is saved locally in <code>c:\\Users\\s1006\\Desktop\\Teaching 2024\\Solutions in Pattern Recognition\\Simple_CNN\\wandb\\run-20241004_160232-w7az38uk</code>"
      ],
      "text/plain": [
       "<IPython.core.display.HTML object>"
      ]
     },
     "metadata": {},
     "output_type": "display_data"
    },
    {
     "data": {
      "text/html": [
       "Syncing run <strong><a href='https://wandb.ai/HAMKca/resnet18-transfer-learning-hamk/runs/w7az38uk' target=\"_blank\">deep-waterfall-1</a></strong> to <a href='https://wandb.ai/HAMKca/resnet18-transfer-learning-hamk' target=\"_blank\">Weights & Biases</a> (<a href='https://wandb.me/run' target=\"_blank\">docs</a>)<br/>"
      ],
      "text/plain": [
       "<IPython.core.display.HTML object>"
      ]
     },
     "metadata": {},
     "output_type": "display_data"
    },
    {
     "data": {
      "text/html": [
       " View project at <a href='https://wandb.ai/HAMKca/resnet18-transfer-learning-hamk' target=\"_blank\">https://wandb.ai/HAMKca/resnet18-transfer-learning-hamk</a>"
      ],
      "text/plain": [
       "<IPython.core.display.HTML object>"
      ]
     },
     "metadata": {},
     "output_type": "display_data"
    },
    {
     "data": {
      "text/html": [
       " View run at <a href='https://wandb.ai/HAMKca/resnet18-transfer-learning-hamk/runs/w7az38uk' target=\"_blank\">https://wandb.ai/HAMKca/resnet18-transfer-learning-hamk/runs/w7az38uk</a>"
      ],
      "text/plain": [
       "<IPython.core.display.HTML object>"
      ]
     },
     "metadata": {},
     "output_type": "display_data"
    },
    {
     "data": {
      "text/html": [
       "<button onClick=\"this.nextSibling.style.display='block';this.style.display='none';\">Display W&B run</button><iframe src='https://wandb.ai/HAMKca/resnet18-transfer-learning-hamk/runs/w7az38uk?jupyter=true' style='border:none;width:100%;height:420px;display:none;'></iframe>"
      ],
      "text/plain": [
       "<wandb.sdk.wandb_run.Run at 0x18392503950>"
      ]
     },
     "execution_count": 50,
     "metadata": {},
     "output_type": "execute_result"
    }
   ],
   "source": [
    "# Initialize W&B and set up the project\n",
    "wandb.init(project=\"resnet18-transfer-learning-hamk\", config={\n",
    "    \"epochs\": 10,\n",
    "    \"batch_size\": 16,\n",
    "    \"learning_rate\": 0.001,\n",
    "    \"architecture\": \"ResNet18\",\n",
    "    \"dataset\": \"RPS\"\n",
    "})"
   ]
  },
  {
   "cell_type": "code",
   "execution_count": 51,
   "metadata": {},
   "outputs": [],
   "source": [
    "config = wandb.config"
   ]
  },
  {
   "cell_type": "code",
   "execution_count": 2,
   "metadata": {},
   "outputs": [],
   "source": [
    "\n",
    "# Device configuration\n",
    "device = torch.device('cuda' if torch.cuda.is_available() else 'cpu')"
   ]
  },
  {
   "cell_type": "markdown",
   "metadata": {},
   "source": [
    "## 3. Preparing the Dataset and Data Loaders\n",
    "\n",
    "In this block, we define the necessary transformations for our dataset, load the data, and create data loaders for training and validation.\n",
    "\n",
    "### Transformations\n",
    "- **`Compose()`**: We use `Compose` to apply a series of transformations to the images.\n",
    "    - **`Resize((28, 28))`**: This resizes the images to a fixed size of 28x28 pixels, which is suitable for the model input.\n",
    "    - **`ToTensor()`**: This converts the images into tensors, which are required by PyTorch for model training.\n",
    "\n",
    "### Loading the Dataset\n",
    "- **`ImageFolder()`**: This utility is used to load images stored in folder structures. Each folder corresponds to a class label, and the images are automatically labeled based on the folder names.\n",
    "    - **`train_data`**: The training dataset is loaded from the `\"rps\"` directory, which contains images for Rock Paper Scissors.\n",
    "    - **`val_data`**: The validation dataset is loaded from the `\"rps-test-set\"` directory.\n",
    "    - **`train_data.classes`**: This prints out the class labels (Rock, Paper, Scissors) from the dataset.\n",
    "\n",
    "### Data Loaders\n",
    "- **`DataLoader()`**: This utility loads data in batches and shuffles it for training or validation.\n",
    "    - **`train_loader`**: Loads the training dataset with a batch size of 16 and shuffles the data.\n",
    "    - **`val_loader`**: Loads the validation dataset with a batch size of 16 but without shuffling.\n",
    "\n",
    "The final lines of the block print the number of samples in both the training and validation sets. These data loaders will be used to feed data into the model during training.\n"
   ]
  },
  {
   "cell_type": "code",
   "execution_count": 3,
   "metadata": {},
   "outputs": [
    {
     "name": "stdout",
     "output_type": "stream",
     "text": [
      "Classes: ['paper', 'rock', 'scissors']\n",
      "Number of training samples: 2520\n",
      "Number of validation samples: 372\n"
     ]
    }
   ],
   "source": [
    "\n",
    "# Transformations (from your lab)\n",
    "transform = Compose([Resize((28, 28)), ToTensor()])\n",
    "\n",
    "# Load the dataset\n",
    "train_data = ImageFolder(root='rps', transform=transform)\n",
    "val_data = ImageFolder(root='rps-test-set', transform=transform)\n",
    "print('Classes:', train_data.classes)\n",
    "# Create data loaders\n",
    "train_loader = DataLoader(train_data, batch_size=16, shuffle=True)\n",
    "val_loader = DataLoader(val_data, batch_size=16, shuffle=False)\n",
    "print(f\"Number of training samples: {len(train_data)}\")\n",
    "print(f\"Number of validation samples: {len(val_data)}\")"
   ]
  },
  {
   "cell_type": "code",
   "execution_count": 4,
   "metadata": {},
   "outputs": [
    {
     "name": "stdout",
     "output_type": "stream",
     "text": [
      "Directory: rps-test-set\n",
      "Number of files: 0\n",
      "Files: []\n",
      "--------------------------------------------------\n",
      "Directory: rps-test-set/paper\n",
      "Number of files: 124\n",
      "Files: ['testpaper01-00.png', 'testpaper01-01.png', 'testpaper01-02.png', 'testpaper01-03.png', 'testpaper01-04.png', 'testpaper01-05.png', 'testpaper01-06.png', 'testpaper01-07.png', 'testpaper01-08.png', 'testpaper01-09.png', 'testpaper01-10.png', 'testpaper01-11.png', 'testpaper01-12.png', 'testpaper01-13.png', 'testpaper01-14.png', 'testpaper01-15.png', 'testpaper01-16.png', 'testpaper01-17.png', 'testpaper01-18.png', 'testpaper01-19.png', 'testpaper01-20.png', 'testpaper01-21.png', 'testpaper01-22.png', 'testpaper01-23.png', 'testpaper01-24.png', 'testpaper01-25.png', 'testpaper01-26.png', 'testpaper01-27.png', 'testpaper01-28.png', 'testpaper01-29.png', 'testpaper01-30.png', 'testpaper02-00.png', 'testpaper02-01.png', 'testpaper02-02.png', 'testpaper02-03.png', 'testpaper02-04.png', 'testpaper02-05.png', 'testpaper02-06.png', 'testpaper02-07.png', 'testpaper02-08.png', 'testpaper02-09.png', 'testpaper02-10.png', 'testpaper02-11.png', 'testpaper02-12.png', 'testpaper02-13.png', 'testpaper02-14.png', 'testpaper02-15.png', 'testpaper02-16.png', 'testpaper02-17.png', 'testpaper02-18.png', 'testpaper02-19.png', 'testpaper02-20.png', 'testpaper02-21.png', 'testpaper02-22.png', 'testpaper02-23.png', 'testpaper02-24.png', 'testpaper02-25.png', 'testpaper02-26.png', 'testpaper02-27.png', 'testpaper02-28.png', 'testpaper02-29.png', 'testpaper02-30.png', 'testpaper03-00.png', 'testpaper03-01.png', 'testpaper03-02.png', 'testpaper03-03.png', 'testpaper03-04.png', 'testpaper03-05.png', 'testpaper03-06.png', 'testpaper03-07.png', 'testpaper03-08.png', 'testpaper03-09.png', 'testpaper03-10.png', 'testpaper03-11.png', 'testpaper03-12.png', 'testpaper03-13.png', 'testpaper03-14.png', 'testpaper03-15.png', 'testpaper03-16.png', 'testpaper03-17.png', 'testpaper03-18.png', 'testpaper03-19.png', 'testpaper03-20.png', 'testpaper03-21.png', 'testpaper03-22.png', 'testpaper03-23.png', 'testpaper03-24.png', 'testpaper03-25.png', 'testpaper03-26.png', 'testpaper03-27.png', 'testpaper03-28.png', 'testpaper03-29.png', 'testpaper03-30.png', 'testpaper04-00.png', 'testpaper04-01.png', 'testpaper04-02.png', 'testpaper04-03.png', 'testpaper04-04.png', 'testpaper04-05.png', 'testpaper04-06.png', 'testpaper04-07.png', 'testpaper04-08.png', 'testpaper04-09.png', 'testpaper04-10.png', 'testpaper04-11.png', 'testpaper04-12.png', 'testpaper04-13.png', 'testpaper04-14.png', 'testpaper04-15.png', 'testpaper04-16.png', 'testpaper04-17.png', 'testpaper04-18.png', 'testpaper04-19.png', 'testpaper04-20.png', 'testpaper04-21.png', 'testpaper04-22.png', 'testpaper04-23.png', 'testpaper04-24.png', 'testpaper04-25.png', 'testpaper04-26.png', 'testpaper04-27.png', 'testpaper04-28.png', 'testpaper04-29.png', 'testpaper04-30.png']\n",
      "--------------------------------------------------\n",
      "Directory: rps-test-set/rock\n",
      "Number of files: 124\n",
      "Files: ['testrock01-00.png', 'testrock01-01.png', 'testrock01-02.png', 'testrock01-03.png', 'testrock01-04.png', 'testrock01-05.png', 'testrock01-06.png', 'testrock01-07.png', 'testrock01-08.png', 'testrock01-09.png', 'testrock01-10.png', 'testrock01-11.png', 'testrock01-12.png', 'testrock01-13.png', 'testrock01-14.png', 'testrock01-15.png', 'testrock01-16.png', 'testrock01-17.png', 'testrock01-18.png', 'testrock01-19.png', 'testrock01-20.png', 'testrock01-21.png', 'testrock01-22.png', 'testrock01-23.png', 'testrock01-24.png', 'testrock01-25.png', 'testrock01-26.png', 'testrock01-27.png', 'testrock01-28.png', 'testrock01-29.png', 'testrock01-30.png', 'testrock02-00.png', 'testrock02-01.png', 'testrock02-02.png', 'testrock02-03.png', 'testrock02-04.png', 'testrock02-05.png', 'testrock02-06.png', 'testrock02-07.png', 'testrock02-08.png', 'testrock02-09.png', 'testrock02-10.png', 'testrock02-11.png', 'testrock02-12.png', 'testrock02-13.png', 'testrock02-14.png', 'testrock02-15.png', 'testrock02-16.png', 'testrock02-17.png', 'testrock02-18.png', 'testrock02-19.png', 'testrock02-20.png', 'testrock02-21.png', 'testrock02-22.png', 'testrock02-23.png', 'testrock02-24.png', 'testrock02-25.png', 'testrock02-26.png', 'testrock02-27.png', 'testrock02-28.png', 'testrock02-29.png', 'testrock02-30.png', 'testrock03-00.png', 'testrock03-01.png', 'testrock03-02.png', 'testrock03-03.png', 'testrock03-04.png', 'testrock03-05.png', 'testrock03-06.png', 'testrock03-07.png', 'testrock03-08.png', 'testrock03-09.png', 'testrock03-10.png', 'testrock03-11.png', 'testrock03-12.png', 'testrock03-13.png', 'testrock03-14.png', 'testrock03-15.png', 'testrock03-16.png', 'testrock03-17.png', 'testrock03-18.png', 'testrock03-19.png', 'testrock03-20.png', 'testrock03-21.png', 'testrock03-22.png', 'testrock03-23.png', 'testrock03-24.png', 'testrock03-25.png', 'testrock03-26.png', 'testrock03-27.png', 'testrock03-28.png', 'testrock03-29.png', 'testrock03-30.png', 'testrock04-00.png', 'testrock04-01.png', 'testrock04-02.png', 'testrock04-03.png', 'testrock04-04.png', 'testrock04-05.png', 'testrock04-06.png', 'testrock04-07.png', 'testrock04-08.png', 'testrock04-09.png', 'testrock04-10.png', 'testrock04-11.png', 'testrock04-12.png', 'testrock04-13.png', 'testrock04-14.png', 'testrock04-15.png', 'testrock04-16.png', 'testrock04-17.png', 'testrock04-18.png', 'testrock04-19.png', 'testrock04-20.png', 'testrock04-21.png', 'testrock04-22.png', 'testrock04-23.png', 'testrock04-24.png', 'testrock04-25.png', 'testrock04-26.png', 'testrock04-27.png', 'testrock04-28.png', 'testrock04-29.png', 'testrock04-30.png']\n",
      "--------------------------------------------------\n",
      "Directory: rps-test-set/scissors\n",
      "Number of files: 124\n",
      "Files: ['testscissors01-00.png', 'testscissors01-01.png', 'testscissors01-02.png', 'testscissors01-03.png', 'testscissors01-04.png', 'testscissors01-05.png', 'testscissors01-06.png', 'testscissors01-07.png', 'testscissors01-08.png', 'testscissors01-09.png', 'testscissors01-10.png', 'testscissors01-11.png', 'testscissors01-12.png', 'testscissors01-13.png', 'testscissors01-14.png', 'testscissors01-15.png', 'testscissors01-16.png', 'testscissors01-17.png', 'testscissors01-18.png', 'testscissors01-19.png', 'testscissors01-20.png', 'testscissors01-21.png', 'testscissors01-22.png', 'testscissors01-23.png', 'testscissors01-24.png', 'testscissors01-25.png', 'testscissors01-26.png', 'testscissors01-27.png', 'testscissors01-28.png', 'testscissors01-29.png', 'testscissors01-30.png', 'testscissors02-00.png', 'testscissors02-01.png', 'testscissors02-02.png', 'testscissors02-03.png', 'testscissors02-04.png', 'testscissors02-05.png', 'testscissors02-06.png', 'testscissors02-07.png', 'testscissors02-08.png', 'testscissors02-09.png', 'testscissors02-10.png', 'testscissors02-11.png', 'testscissors02-12.png', 'testscissors02-13.png', 'testscissors02-14.png', 'testscissors02-15.png', 'testscissors02-16.png', 'testscissors02-17.png', 'testscissors02-18.png', 'testscissors02-19.png', 'testscissors02-20.png', 'testscissors02-21.png', 'testscissors02-22.png', 'testscissors02-23.png', 'testscissors02-24.png', 'testscissors02-25.png', 'testscissors02-26.png', 'testscissors02-27.png', 'testscissors02-28.png', 'testscissors02-29.png', 'testscissors02-30.png', 'testscissors03-00.png', 'testscissors03-01.png', 'testscissors03-02.png', 'testscissors03-03.png', 'testscissors03-04.png', 'testscissors03-05.png', 'testscissors03-06.png', 'testscissors03-07.png', 'testscissors03-08.png', 'testscissors03-09.png', 'testscissors03-10.png', 'testscissors03-11.png', 'testscissors03-12.png', 'testscissors03-13.png', 'testscissors03-14.png', 'testscissors03-15.png', 'testscissors03-16.png', 'testscissors03-17.png', 'testscissors03-18.png', 'testscissors03-19.png', 'testscissors03-20.png', 'testscissors03-21.png', 'testscissors03-22.png', 'testscissors03-23.png', 'testscissors03-24.png', 'testscissors03-25.png', 'testscissors03-26.png', 'testscissors03-27.png', 'testscissors03-28.png', 'testscissors03-29.png', 'testscissors03-30.png', 'testscissors04-00.png', 'testscissors04-01.png', 'testscissors04-02.png', 'testscissors04-03.png', 'testscissors04-04.png', 'testscissors04-05.png', 'testscissors04-06.png', 'testscissors04-07.png', 'testscissors04-08.png', 'testscissors04-09.png', 'testscissors04-10.png', 'testscissors04-11.png', 'testscissors04-12.png', 'testscissors04-13.png', 'testscissors04-14.png', 'testscissors04-15.png', 'testscissors04-16.png', 'testscissors04-17.png', 'testscissors04-18.png', 'testscissors04-19.png', 'testscissors04-20.png', 'testscissors04-21.png', 'testscissors04-22.png', 'testscissors04-23.png', 'testscissors04-24.png', 'testscissors04-25.png', 'testscissors04-26.png', 'testscissors04-27.png', 'testscissors04-28.png', 'testscissors04-29.png', 'testscissors04-30.png']\n",
      "--------------------------------------------------\n"
     ]
    }
   ],
   "source": [
    "import os\n",
    "val_dir = 'rps-test-set'\n",
    "for root, dirs, files in os.walk(val_dir):\n",
    "    print(f\"Directory: {root}\")\n",
    "    print(f\"Number of files: {len(files)}\")\n",
    "    print(f\"Files: {files}\")\n",
    "    print(\"-\" * 50)"
   ]
  },
  {
   "cell_type": "markdown",
   "metadata": {},
   "source": [
    "## 4. Loading a Pre-trained ResNet Model\n",
    "\n",
    "In this block, we load the pre-trained **ResNet18** model, which is a popular deep learning architecture known for its residual connections that help avoid the vanishing gradient problem in deep networks.\n",
    "\n",
    "- **`models.resnet18()`**: This function loads the **ResNet18** architecture from the **torchvision** library.\n",
    "    - **`weights=models.ResNet18_Weights.DEFAULT`**: This specifies that we are using the pre-trained weights provided by **torchvision**. These weights are trained on a large-scale dataset like ImageNet, allowing us to benefit from a model that has already learned useful features.\n",
    "- **`.to(device)`**: This moves the model to the specified device (usually a GPU or CPU). If a GPU is available, the model will run on it for faster computations.\n",
    "\n",
    "By using this pre-trained model, we leverage the knowledge it has already learned and adapt it to our specific task (transfer learning).\n"
   ]
  },
  {
   "cell_type": "code",
   "execution_count": 5,
   "metadata": {},
   "outputs": [
    {
     "name": "stderr",
     "output_type": "stream",
     "text": [
      "Downloading: \"https://download.pytorch.org/models/resnet18-f37072fd.pth\" to /home/sakuk/.cache/torch/hub/checkpoints/resnet18-f37072fd.pth\n",
      "100%|██████████| 44.7M/44.7M [00:02<00:00, 21.2MB/s]\n"
     ]
    }
   ],
   "source": [
    "# Load a pretrained ResNet model\n",
    "model = models.resnet18(weights=models.ResNet18_Weights.DEFAULT).to(device)"
   ]
  },
  {
   "cell_type": "code",
   "execution_count": 6,
   "metadata": {},
   "outputs": [
    {
     "name": "stdout",
     "output_type": "stream",
     "text": [
      "Collecting torchsummary\n",
      "  Downloading torchsummary-1.5.1-py3-none-any.whl.metadata (296 bytes)\n",
      "Downloading torchsummary-1.5.1-py3-none-any.whl (2.8 kB)\n",
      "Installing collected packages: torchsummary\n",
      "Successfully installed torchsummary-1.5.1\n",
      "Note: you may need to restart the kernel to use updated packages.\n"
     ]
    }
   ],
   "source": [
    "%pip install torchsummary\n"
   ]
  },
  {
   "cell_type": "markdown",
   "metadata": {},
   "source": [
    "## 5. Displaying the Model Summary\n",
    "\n",
    "In this block, we use the **torchsummary** library to display a detailed summary of the **ResNet18** model architecture. This helps us understand the structure of the model and the number of parameters involved.\n",
    "\n",
    "- **`summary(model, input_size=(3, 224, 224))`**: This function provides a layer-by-layer summary of the model architecture.\n",
    "    - **Input size**: For ResNet18, the expected input size is a 3-channel image (RGB) with dimensions 224x224 pixels.\n",
    "\n",
    "### Model Summary\n",
    "- **Layer (type)**: Lists each layer in the model, such as convolutional layers, batch normalization, ReLU activations, and fully connected layers.\n",
    "- **Output Shape**: Displays the shape of the output after each layer.\n",
    "- **Param #**: Shows the number of parameters in each layer, including trainable parameters like weights and biases.\n",
    "\n",
    "The model has approximately **11.7 million parameters**, all of which are trainable. This is a relatively small number compared to deeper models like ResNet50, making ResNet18 a good choice for transfer learning tasks with limited computational resources.\n",
    "\n",
    "The summary provides the estimated memory usage for the input size, forward/backward passes, and the parameters, giving us a clear idea of the model's complexity and memory requirements.\n"
   ]
  },
  {
   "cell_type": "code",
   "execution_count": 7,
   "metadata": {},
   "outputs": [
    {
     "name": "stdout",
     "output_type": "stream",
     "text": [
      "----------------------------------------------------------------\n",
      "        Layer (type)               Output Shape         Param #\n",
      "================================================================\n",
      "            Conv2d-1         [-1, 64, 112, 112]           9,408\n",
      "       BatchNorm2d-2         [-1, 64, 112, 112]             128\n",
      "              ReLU-3         [-1, 64, 112, 112]               0\n",
      "         MaxPool2d-4           [-1, 64, 56, 56]               0\n",
      "            Conv2d-5           [-1, 64, 56, 56]          36,864\n",
      "       BatchNorm2d-6           [-1, 64, 56, 56]             128\n",
      "              ReLU-7           [-1, 64, 56, 56]               0\n",
      "            Conv2d-8           [-1, 64, 56, 56]          36,864\n",
      "       BatchNorm2d-9           [-1, 64, 56, 56]             128\n",
      "             ReLU-10           [-1, 64, 56, 56]               0\n",
      "       BasicBlock-11           [-1, 64, 56, 56]               0\n",
      "           Conv2d-12           [-1, 64, 56, 56]          36,864\n",
      "      BatchNorm2d-13           [-1, 64, 56, 56]             128\n",
      "             ReLU-14           [-1, 64, 56, 56]               0\n",
      "           Conv2d-15           [-1, 64, 56, 56]          36,864\n",
      "      BatchNorm2d-16           [-1, 64, 56, 56]             128\n",
      "             ReLU-17           [-1, 64, 56, 56]               0\n",
      "       BasicBlock-18           [-1, 64, 56, 56]               0\n",
      "           Conv2d-19          [-1, 128, 28, 28]          73,728\n",
      "      BatchNorm2d-20          [-1, 128, 28, 28]             256\n",
      "             ReLU-21          [-1, 128, 28, 28]               0\n",
      "           Conv2d-22          [-1, 128, 28, 28]         147,456\n",
      "      BatchNorm2d-23          [-1, 128, 28, 28]             256\n",
      "           Conv2d-24          [-1, 128, 28, 28]           8,192\n",
      "      BatchNorm2d-25          [-1, 128, 28, 28]             256\n",
      "             ReLU-26          [-1, 128, 28, 28]               0\n",
      "       BasicBlock-27          [-1, 128, 28, 28]               0\n",
      "           Conv2d-28          [-1, 128, 28, 28]         147,456\n",
      "      BatchNorm2d-29          [-1, 128, 28, 28]             256\n",
      "             ReLU-30          [-1, 128, 28, 28]               0\n",
      "           Conv2d-31          [-1, 128, 28, 28]         147,456\n",
      "      BatchNorm2d-32          [-1, 128, 28, 28]             256\n",
      "             ReLU-33          [-1, 128, 28, 28]               0\n",
      "       BasicBlock-34          [-1, 128, 28, 28]               0\n",
      "           Conv2d-35          [-1, 256, 14, 14]         294,912\n",
      "      BatchNorm2d-36          [-1, 256, 14, 14]             512\n",
      "             ReLU-37          [-1, 256, 14, 14]               0\n",
      "           Conv2d-38          [-1, 256, 14, 14]         589,824\n",
      "      BatchNorm2d-39          [-1, 256, 14, 14]             512\n",
      "           Conv2d-40          [-1, 256, 14, 14]          32,768\n",
      "      BatchNorm2d-41          [-1, 256, 14, 14]             512\n",
      "             ReLU-42          [-1, 256, 14, 14]               0\n",
      "       BasicBlock-43          [-1, 256, 14, 14]               0\n",
      "           Conv2d-44          [-1, 256, 14, 14]         589,824\n",
      "      BatchNorm2d-45          [-1, 256, 14, 14]             512\n",
      "             ReLU-46          [-1, 256, 14, 14]               0\n",
      "           Conv2d-47          [-1, 256, 14, 14]         589,824\n",
      "      BatchNorm2d-48          [-1, 256, 14, 14]             512\n",
      "             ReLU-49          [-1, 256, 14, 14]               0\n",
      "       BasicBlock-50          [-1, 256, 14, 14]               0\n",
      "           Conv2d-51            [-1, 512, 7, 7]       1,179,648\n",
      "      BatchNorm2d-52            [-1, 512, 7, 7]           1,024\n",
      "             ReLU-53            [-1, 512, 7, 7]               0\n",
      "           Conv2d-54            [-1, 512, 7, 7]       2,359,296\n",
      "      BatchNorm2d-55            [-1, 512, 7, 7]           1,024\n",
      "           Conv2d-56            [-1, 512, 7, 7]         131,072\n",
      "      BatchNorm2d-57            [-1, 512, 7, 7]           1,024\n",
      "             ReLU-58            [-1, 512, 7, 7]               0\n",
      "       BasicBlock-59            [-1, 512, 7, 7]               0\n",
      "           Conv2d-60            [-1, 512, 7, 7]       2,359,296\n",
      "      BatchNorm2d-61            [-1, 512, 7, 7]           1,024\n",
      "             ReLU-62            [-1, 512, 7, 7]               0\n",
      "           Conv2d-63            [-1, 512, 7, 7]       2,359,296\n",
      "      BatchNorm2d-64            [-1, 512, 7, 7]           1,024\n",
      "             ReLU-65            [-1, 512, 7, 7]               0\n",
      "       BasicBlock-66            [-1, 512, 7, 7]               0\n",
      "AdaptiveAvgPool2d-67            [-1, 512, 1, 1]               0\n",
      "           Linear-68                 [-1, 1000]         513,000\n",
      "================================================================\n",
      "Total params: 11,689,512\n",
      "Trainable params: 11,689,512\n",
      "Non-trainable params: 0\n",
      "----------------------------------------------------------------\n",
      "Input size (MB): 0.57\n",
      "Forward/backward pass size (MB): 62.79\n",
      "Params size (MB): 44.59\n",
      "Estimated Total Size (MB): 107.96\n",
      "----------------------------------------------------------------\n"
     ]
    }
   ],
   "source": [
    "from torchsummary import summary\n",
    "\n",
    "# Display model summary (for an input size of (3, 224, 224) for ResNet)\n",
    "summary(model, input_size=(3, 224, 224))"
   ]
  },
  {
   "cell_type": "code",
   "execution_count": 8,
   "metadata": {},
   "outputs": [
    {
     "name": "stdout",
     "output_type": "stream",
     "text": [
      "ResNet(\n",
      "  (conv1): Conv2d(3, 64, kernel_size=(7, 7), stride=(2, 2), padding=(3, 3), bias=False)\n",
      "  (bn1): BatchNorm2d(64, eps=1e-05, momentum=0.1, affine=True, track_running_stats=True)\n",
      "  (relu): ReLU(inplace=True)\n",
      "  (maxpool): MaxPool2d(kernel_size=3, stride=2, padding=1, dilation=1, ceil_mode=False)\n",
      "  (layer1): Sequential(\n",
      "    (0): BasicBlock(\n",
      "      (conv1): Conv2d(64, 64, kernel_size=(3, 3), stride=(1, 1), padding=(1, 1), bias=False)\n",
      "      (bn1): BatchNorm2d(64, eps=1e-05, momentum=0.1, affine=True, track_running_stats=True)\n",
      "      (relu): ReLU(inplace=True)\n",
      "      (conv2): Conv2d(64, 64, kernel_size=(3, 3), stride=(1, 1), padding=(1, 1), bias=False)\n",
      "      (bn2): BatchNorm2d(64, eps=1e-05, momentum=0.1, affine=True, track_running_stats=True)\n",
      "    )\n",
      "    (1): BasicBlock(\n",
      "      (conv1): Conv2d(64, 64, kernel_size=(3, 3), stride=(1, 1), padding=(1, 1), bias=False)\n",
      "      (bn1): BatchNorm2d(64, eps=1e-05, momentum=0.1, affine=True, track_running_stats=True)\n",
      "      (relu): ReLU(inplace=True)\n",
      "      (conv2): Conv2d(64, 64, kernel_size=(3, 3), stride=(1, 1), padding=(1, 1), bias=False)\n",
      "      (bn2): BatchNorm2d(64, eps=1e-05, momentum=0.1, affine=True, track_running_stats=True)\n",
      "    )\n",
      "  )\n",
      "  (layer2): Sequential(\n",
      "    (0): BasicBlock(\n",
      "      (conv1): Conv2d(64, 128, kernel_size=(3, 3), stride=(2, 2), padding=(1, 1), bias=False)\n",
      "      (bn1): BatchNorm2d(128, eps=1e-05, momentum=0.1, affine=True, track_running_stats=True)\n",
      "      (relu): ReLU(inplace=True)\n",
      "      (conv2): Conv2d(128, 128, kernel_size=(3, 3), stride=(1, 1), padding=(1, 1), bias=False)\n",
      "      (bn2): BatchNorm2d(128, eps=1e-05, momentum=0.1, affine=True, track_running_stats=True)\n",
      "      (downsample): Sequential(\n",
      "        (0): Conv2d(64, 128, kernel_size=(1, 1), stride=(2, 2), bias=False)\n",
      "        (1): BatchNorm2d(128, eps=1e-05, momentum=0.1, affine=True, track_running_stats=True)\n",
      "      )\n",
      "    )\n",
      "    (1): BasicBlock(\n",
      "      (conv1): Conv2d(128, 128, kernel_size=(3, 3), stride=(1, 1), padding=(1, 1), bias=False)\n",
      "      (bn1): BatchNorm2d(128, eps=1e-05, momentum=0.1, affine=True, track_running_stats=True)\n",
      "      (relu): ReLU(inplace=True)\n",
      "      (conv2): Conv2d(128, 128, kernel_size=(3, 3), stride=(1, 1), padding=(1, 1), bias=False)\n",
      "      (bn2): BatchNorm2d(128, eps=1e-05, momentum=0.1, affine=True, track_running_stats=True)\n",
      "    )\n",
      "  )\n",
      "  (layer3): Sequential(\n",
      "    (0): BasicBlock(\n",
      "      (conv1): Conv2d(128, 256, kernel_size=(3, 3), stride=(2, 2), padding=(1, 1), bias=False)\n",
      "      (bn1): BatchNorm2d(256, eps=1e-05, momentum=0.1, affine=True, track_running_stats=True)\n",
      "      (relu): ReLU(inplace=True)\n",
      "      (conv2): Conv2d(256, 256, kernel_size=(3, 3), stride=(1, 1), padding=(1, 1), bias=False)\n",
      "      (bn2): BatchNorm2d(256, eps=1e-05, momentum=0.1, affine=True, track_running_stats=True)\n",
      "      (downsample): Sequential(\n",
      "        (0): Conv2d(128, 256, kernel_size=(1, 1), stride=(2, 2), bias=False)\n",
      "        (1): BatchNorm2d(256, eps=1e-05, momentum=0.1, affine=True, track_running_stats=True)\n",
      "      )\n",
      "    )\n",
      "    (1): BasicBlock(\n",
      "      (conv1): Conv2d(256, 256, kernel_size=(3, 3), stride=(1, 1), padding=(1, 1), bias=False)\n",
      "      (bn1): BatchNorm2d(256, eps=1e-05, momentum=0.1, affine=True, track_running_stats=True)\n",
      "      (relu): ReLU(inplace=True)\n",
      "      (conv2): Conv2d(256, 256, kernel_size=(3, 3), stride=(1, 1), padding=(1, 1), bias=False)\n",
      "      (bn2): BatchNorm2d(256, eps=1e-05, momentum=0.1, affine=True, track_running_stats=True)\n",
      "    )\n",
      "  )\n",
      "  (layer4): Sequential(\n",
      "    (0): BasicBlock(\n",
      "      (conv1): Conv2d(256, 512, kernel_size=(3, 3), stride=(2, 2), padding=(1, 1), bias=False)\n",
      "      (bn1): BatchNorm2d(512, eps=1e-05, momentum=0.1, affine=True, track_running_stats=True)\n",
      "      (relu): ReLU(inplace=True)\n",
      "      (conv2): Conv2d(512, 512, kernel_size=(3, 3), stride=(1, 1), padding=(1, 1), bias=False)\n",
      "      (bn2): BatchNorm2d(512, eps=1e-05, momentum=0.1, affine=True, track_running_stats=True)\n",
      "      (downsample): Sequential(\n",
      "        (0): Conv2d(256, 512, kernel_size=(1, 1), stride=(2, 2), bias=False)\n",
      "        (1): BatchNorm2d(512, eps=1e-05, momentum=0.1, affine=True, track_running_stats=True)\n",
      "      )\n",
      "    )\n",
      "    (1): BasicBlock(\n",
      "      (conv1): Conv2d(512, 512, kernel_size=(3, 3), stride=(1, 1), padding=(1, 1), bias=False)\n",
      "      (bn1): BatchNorm2d(512, eps=1e-05, momentum=0.1, affine=True, track_running_stats=True)\n",
      "      (relu): ReLU(inplace=True)\n",
      "      (conv2): Conv2d(512, 512, kernel_size=(3, 3), stride=(1, 1), padding=(1, 1), bias=False)\n",
      "      (bn2): BatchNorm2d(512, eps=1e-05, momentum=0.1, affine=True, track_running_stats=True)\n",
      "    )\n",
      "  )\n",
      "  (avgpool): AdaptiveAvgPool2d(output_size=(1, 1))\n",
      "  (fc): Linear(in_features=512, out_features=1000, bias=True)\n",
      ")\n"
     ]
    }
   ],
   "source": [
    "# Print model architecture\n",
    "print(model)\n"
   ]
  },
  {
   "cell_type": "markdown",
   "metadata": {},
   "source": [
    "## 6. Modifying the Final Fully Connected Layer for Transfer Learning\n",
    "\n",
    "In transfer learning, we often modify the final layer of a pre-trained model to adapt it to our specific task. In this case, we are fine-tuning the **ResNet18** model for the **Rock-Paper-Scissors** dataset, which has 3 output classes.\n",
    "\n",
    "- **`model.fc = nn.Linear(512, 3)`**: \n",
    "    - The final fully connected (FC) layer of ResNet18 is originally designed for 1000 classes (as it was trained on ImageNet).\n",
    "    - We replace the FC layer with a new `Linear` layer that has 512 input features (from the last layer of ResNet18) and 3 output features (corresponding to the 3 classes: Rock, Paper, and Scissors).\n",
    "    - **`.to(device)`**: Moves the modified layer to the device (GPU or CPU).\n",
    "\n",
    "By modifying this layer, we retain all the features learned by the pre-trained model and fine-tune the final layer to classify images into the 3 target categories.\n",
    "\n",
    "- The following image is of AlexNet but the idea of Modifying the final layer is same"
   ]
  },
  {
   "cell_type": "markdown",
   "metadata": {},
   "source": [
    "![](https://github.com/dvgodoy/PyTorchStepByStep/blob/master/images/alexnet.png?raw=1)\n",
    "\n",
    "*Source: Generated using Alexander Lenail’s [NN-SVG](http://alexlenail.me/NN-SVG/) and adapted by the author*"
   ]
  },
  {
   "cell_type": "code",
   "execution_count": 9,
   "metadata": {},
   "outputs": [],
   "source": [
    "\n",
    "# Modify the final fully connected layer for transfer learning (assuming 3 classes for the Rock-Paper-Scissors dataset)\n",
    "model.fc = nn.Linear(512, 3).to(device)"
   ]
  },
  {
   "cell_type": "code",
   "execution_count": 10,
   "metadata": {},
   "outputs": [],
   "source": [
    "\n",
    "\n",
    "# Loss function and optimizer\n",
    "criterion = nn.CrossEntropyLoss()\n",
    "optimizer = optim.Adam(model.parameters(), lr=0.001)"
   ]
  },
  {
   "cell_type": "markdown",
   "metadata": {},
   "source": [
    "## 7. Defining the Training and Validation Loops\n",
    "\n",
    "In this section, we define two key functions: one for training the model and one for validating its performance. These loops are fundamental to the transfer learning process, where the pre-trained model is fine-tuned on our specific dataset.\n",
    "\n",
    "### Training Loop\n",
    "\n",
    "The **`train()`** function handles the training process for one epoch, performing the following steps:\n",
    "\n",
    "- **`model.train()`**: Sets the model to training mode, enabling features like dropout and batch normalization.\n",
    "- **Forward pass**: The input images are passed through the model, and the output predictions are generated.\n",
    "- **Loss calculation**: The loss between the model's predictions and the true labels is computed using the specified criterion (e.g., cross-entropy loss).\n",
    "- **Backward pass**: The gradients of the loss with respect to the model parameters are computed (via `loss.backward()`), and the optimizer updates the model weights.\n",
    "- **Accuracy calculation**: The number of correctly predicted labels is compared against the total number of labels to calculate the training accuracy.\n",
    "- **W&B logging**: The loss and accuracy for the current epoch are logged to **Weights & Biases** (W&B), allowing us to track the model's performance.\n",
    "\n",
    "### Validation Loop\n",
    "\n",
    "The **`validate()`** function handles the evaluation of the model on the validation set:\n",
    "\n",
    "- **`model.eval()`**: Sets the model to evaluation mode, disabling certain features like dropout.\n",
    "- **No gradient calculation**: The validation loop is wrapped in `torch.no_grad()` to prevent gradient calculations and save memory during the evaluation.\n",
    "- **Forward pass**: Similar to the training loop, the input images are passed through the model, but no backpropagation or optimization is performed.\n",
    "- **Accuracy and loss calculation**: The loss and accuracy are computed for the validation set.\n",
    "- **W&B logging**: The validation loss and accuracy are logged to W&B to monitor the model's performance on unseen data.\n",
    "\n",
    "Both loops track key metrics, including loss and accuracy, and use **Weights & Biases** to log these metrics for real-time monitoring of the training process.\n"
   ]
  },
  {
   "cell_type": "code",
   "execution_count": 15,
   "metadata": {},
   "outputs": [],
   "source": [
    "# Training loop\n",
    "def train(model, loader, criterion, optimizer, device):\n",
    "    model.train()\n",
    "    running_loss = 0.0\n",
    "    correct = 0\n",
    "    total = 0\n",
    "\n",
    "    for inputs, labels in loader:\n",
    "        inputs, labels = inputs.to(device), labels.to(device)\n",
    "\n",
    "        # Forward pass\n",
    "        outputs = model(inputs)\n",
    "        loss = criterion(outputs, labels)\n",
    "\n",
    "        # Backward and optimize\n",
    "        optimizer.zero_grad()\n",
    "        loss.backward()\n",
    "        optimizer.step()\n",
    "\n",
    "        running_loss += loss.item()\n",
    "        _, predicted = outputs.max(1)\n",
    "        total += labels.size(0)\n",
    "        correct += predicted.eq(labels).sum().item()\n",
    "\n",
    "    epoch_loss = running_loss / len(loader)\n",
    "    epoch_accuracy = 100. * correct / total\n",
    "\n",
    "    # Log the metrics to W&B\n",
    "    # wandb.log({\"Train Loss\": epoch_loss, \"Train Accuracy\": epoch_accuracy})\n",
    "    print(f\"Train Loss: {epoch_loss}, Train Accuracy: {epoch_accuracy}%\")\n",
    "\n",
    "# Validation loop\n",
    "def validate(model, loader, criterion, device):\n",
    "    model.eval()\n",
    "    running_loss = 0.0\n",
    "    correct = 0\n",
    "    total = 0\n",
    "\n",
    "    with torch.no_grad():\n",
    "        for inputs, labels in loader:\n",
    "            inputs, labels = inputs.to(device), labels.to(device)\n",
    "\n",
    "            # Forward pass\n",
    "            outputs = model(inputs)\n",
    "            loss = criterion(outputs, labels)\n",
    "\n",
    "            running_loss += loss.item()\n",
    "            _, predicted = outputs.max(1)\n",
    "            total += labels.size(0)\n",
    "            correct += predicted.eq(labels).sum().item()\n",
    "\n",
    "    epoch_loss = running_loss / len(loader)\n",
    "    epoch_accuracy = 100. * correct / total\n",
    "    # Log the metrics to W&B\n",
    "    # wandb.log({\"Validation Loss\": epoch_loss, \"Validation Accuracy\": epoch_accuracy})\n",
    "\n",
    "    print(f\"Validation Loss: {epoch_loss}, Validation Accuracy: {epoch_accuracy}%\")\n",
    "\n",
    "\n",
    "\n"
   ]
  },
  {
   "cell_type": "markdown",
   "metadata": {},
   "source": [
    "## 8. Training the Model\n",
    "\n",
    "In this block, we train the model for a set number of epochs using the previously defined **`train()`** and **`validate()`** functions. The model will learn from the training data and be evaluated on the validation set at the end of each epoch.\n",
    "\n",
    "- **`num_epochs = 10`**: Specifies that the model will be trained for 10 epochs. This can be adjusted based on the dataset size, model complexity, and available resources.\n",
    "- **Training Loop**: \n",
    "    - For each epoch, the **`train()`** function is called to train the model on the training set.\n",
    "    - After each epoch, the **`validate()`** function evaluates the model on the validation set to track its performance.\n",
    "    - For each epoch, the loss and accuracy for both the training and validation sets are printed to monitor progress.\n",
    "\n",
    "### Weights & Biases (W&B) Logging\n",
    "- **`wandb.watch(model)`**: This function allows **W&B** to track the model's gradients and parameters throughout training, enabling more detailed insights and visualizations into the model’s training process.\n",
    "\n",
    "By logging each epoch's results and using **W&B** to track the model’s progress, we ensure a well-documented and transparent training process. After training, the model can be saved and used for future inference or further fine-tuning.\n"
   ]
  },
  {
   "cell_type": "code",
   "execution_count": 16,
   "metadata": {},
   "outputs": [
    {
     "name": "stdout",
     "output_type": "stream",
     "text": [
      "Epoch 1/10\n",
      "Train Loss: 0.0652164615894435, Train Accuracy: 98.69047619047619%\n",
      "Validation Loss: 0.21239544483129671, Validation Accuracy: 95.16129032258064%\n",
      "Epoch 2/10\n",
      "Train Loss: 0.0402599301743999, Train Accuracy: 99.08730158730158%\n",
      "Validation Loss: 0.08102831190626603, Validation Accuracy: 96.7741935483871%\n",
      "Epoch 3/10\n",
      "Train Loss: 0.0228103390228067, Train Accuracy: 99.8015873015873%\n",
      "Validation Loss: 0.6069893509084068, Validation Accuracy: 80.3763440860215%\n",
      "Epoch 4/10\n",
      "Train Loss: 0.003471090082643105, Train Accuracy: 99.96031746031746%\n",
      "Validation Loss: 0.0888495560308608, Validation Accuracy: 96.7741935483871%\n",
      "Epoch 5/10\n",
      "Train Loss: 0.00035359321910745383, Train Accuracy: 100.0%\n",
      "Validation Loss: 0.08173132430238184, Validation Accuracy: 96.50537634408602%\n",
      "Epoch 6/10\n",
      "Train Loss: 0.08537174668331145, Train Accuracy: 97.89682539682539%\n",
      "Validation Loss: 0.5953351118659876, Validation Accuracy: 74.19354838709677%\n",
      "Epoch 7/10\n",
      "Train Loss: 0.09185386070177766, Train Accuracy: 98.13492063492063%\n",
      "Validation Loss: 0.3297160410244639, Validation Accuracy: 87.09677419354838%\n",
      "Epoch 8/10\n",
      "Train Loss: 0.051707747334240835, Train Accuracy: 98.80952380952381%\n",
      "Validation Loss: 0.06607230355439242, Validation Accuracy: 98.65591397849462%\n",
      "Epoch 9/10\n",
      "Train Loss: 0.0005262800144619983, Train Accuracy: 100.0%\n",
      "Validation Loss: 0.04029849636814712, Validation Accuracy: 99.19354838709677%\n",
      "Epoch 10/10\n",
      "Train Loss: 0.04762586992070236, Train Accuracy: 99.48412698412699%\n",
      "Validation Loss: 0.26603575102247606, Validation Accuracy: 89.24731182795699%\n"
     ]
    }
   ],
   "source": [
    "# Train the model for 10 epochs (you can increase the epochs as needed)\n",
    "num_epochs = 10\n",
    "for epoch in range(num_epochs):\n",
    "    print(f'Epoch {epoch+1}/{num_epochs}')\n",
    "    train(model, train_loader, criterion, optimizer, device)\n",
    "    validate(model, val_loader, criterion, device)\n",
    "\n",
    "# Save the model to W&B\n",
    "# wandb.watch(model)"
   ]
  },
  {
   "cell_type": "code",
   "execution_count": 36,
   "metadata": {},
   "outputs": [],
   "source": [
    "# If you want to save the model to disk \n",
    "#torch.save(model.state_dict(), 'resnet18_transfer_learning.pth')"
   ]
  },
  {
   "cell_type": "code",
   "execution_count": 17,
   "metadata": {},
   "outputs": [
    {
     "name": "stdout",
     "output_type": "stream",
     "text": [
      "Predicted class: rock\n"
     ]
    }
   ],
   "source": [
    "from PIL import Image\n",
    "import torch\n",
    "\n",
    "# Function to perform inference on a single image\n",
    "def infer(model, image_path, transform, device):\n",
    "    # Load the image and convert it to RGB (3 channels)\n",
    "    image = Image.open(image_path).convert('RGB')\n",
    "    image = transform(image).unsqueeze(0).to(device)  # Add batch dimension\n",
    "\n",
    "    # Put the model in evaluation mode\n",
    "    model.eval()\n",
    "\n",
    "    with torch.no_grad():\n",
    "        output = model(image)\n",
    "        _, predicted = output.max(1)\n",
    "    \n",
    "    return predicted.item()\n",
    "\n",
    "# Class names are based on the order printed from train_data.classes\n",
    "class_names = ['paper', 'rock', 'scissors']\n",
    "\n",
    "# Path to the test image\n",
    "image_path = 'rps-test-set/rock/testrock01-00.png'  # Adjust the path as needed\n",
    "\n",
    "# Run inference\n",
    "predicted_class = infer(model, image_path, transform, device)\n",
    "print(f'Predicted class: {class_names[predicted_class]}')\n",
    "\n",
    "# Path to the test image\n",
    "# image_path = 'rps-test-set/rock/testrock01-00.png'  # Ensure the path is correct\n",
    "\n"
   ]
  },
  {
   "cell_type": "code",
   "execution_count": 18,
   "metadata": {},
   "outputs": [
    {
     "name": "stdout",
     "output_type": "stream",
     "text": [
      "Requirement already satisfied: scikit-learn in /home/sakuk/code/pattern_recognizion/venv/lib64/python3.11/site-packages (1.5.1)\n",
      "Requirement already satisfied: matplotlib in /home/sakuk/code/pattern_recognizion/venv/lib64/python3.11/site-packages (3.9.2)\n",
      "Requirement already satisfied: numpy>=1.19.5 in /home/sakuk/code/pattern_recognizion/venv/lib64/python3.11/site-packages (from scikit-learn) (1.26.3)\n",
      "Requirement already satisfied: scipy>=1.6.0 in /home/sakuk/code/pattern_recognizion/venv/lib64/python3.11/site-packages (from scikit-learn) (1.14.1)\n",
      "Requirement already satisfied: joblib>=1.2.0 in /home/sakuk/code/pattern_recognizion/venv/lib64/python3.11/site-packages (from scikit-learn) (1.4.2)\n",
      "Requirement already satisfied: threadpoolctl>=3.1.0 in /home/sakuk/code/pattern_recognizion/venv/lib64/python3.11/site-packages (from scikit-learn) (3.5.0)\n",
      "Requirement already satisfied: contourpy>=1.0.1 in /home/sakuk/code/pattern_recognizion/venv/lib64/python3.11/site-packages (from matplotlib) (1.2.1)\n",
      "Requirement already satisfied: cycler>=0.10 in /home/sakuk/code/pattern_recognizion/venv/lib64/python3.11/site-packages (from matplotlib) (0.12.1)\n",
      "Requirement already satisfied: fonttools>=4.22.0 in /home/sakuk/code/pattern_recognizion/venv/lib64/python3.11/site-packages (from matplotlib) (4.53.1)\n",
      "Requirement already satisfied: kiwisolver>=1.3.1 in /home/sakuk/code/pattern_recognizion/venv/lib64/python3.11/site-packages (from matplotlib) (1.4.5)\n",
      "Requirement already satisfied: packaging>=20.0 in /home/sakuk/code/pattern_recognizion/venv/lib64/python3.11/site-packages (from matplotlib) (24.1)\n",
      "Requirement already satisfied: pillow>=8 in /home/sakuk/code/pattern_recognizion/venv/lib64/python3.11/site-packages (from matplotlib) (10.2.0)\n",
      "Requirement already satisfied: pyparsing>=2.3.1 in /home/sakuk/code/pattern_recognizion/venv/lib64/python3.11/site-packages (from matplotlib) (3.1.4)\n",
      "Requirement already satisfied: python-dateutil>=2.7 in /home/sakuk/code/pattern_recognizion/venv/lib64/python3.11/site-packages (from matplotlib) (2.9.0.post0)\n",
      "Requirement already satisfied: six>=1.5 in /home/sakuk/code/pattern_recognizion/venv/lib64/python3.11/site-packages (from python-dateutil>=2.7->matplotlib) (1.16.0)\n",
      "Note: you may need to restart the kernel to use updated packages.\n"
     ]
    }
   ],
   "source": [
    "%pip install scikit-learn matplotlib"
   ]
  },
  {
   "cell_type": "markdown",
   "metadata": {},
   "source": [
    "## 9. Evaluating the Model with a Confusion Matrix\n",
    "\n",
    "In this block, we generate predictions for the entire validation set and display a **confusion matrix** to better understand how well the model is performing on each class (Rock, Paper, Scissors). The confusion matrix allows us to see how often the model correctly classifies each class and where it may be making errors.\n",
    "\n",
    "### Getting Predictions\n",
    "\n",
    "The **`get_all_predictions()`** function:\n",
    "- **`model.eval()`**: Sets the model to evaluation mode to disable training-specific features such as dropout.\n",
    "- **Predictions**: For each batch in the validation loader, we pass the inputs through the model and record the predicted class labels.\n",
    "    - The predictions are stored in **`all_preds`**, and the true labels in **`all_labels`**.\n",
    "    - Both predictions and labels are moved back to the CPU using `.cpu()` and then converted to numpy arrays for further processing.\n",
    "- **Concatenation**: After looping through the entire validation set, we concatenate the predictions and labels into single arrays for easy comparison.\n",
    "\n",
    "### Confusion Matrix\n",
    "- **`confusion_matrix()`**: This function from **scikit-learn** computes the confusion matrix by comparing the true labels with the predicted labels.\n",
    "- **`ConfusionMatrixDisplay()`**: This utility is used to visualize the confusion matrix.\n",
    "    - The confusion matrix shows how many times the model correctly or incorrectly predicted each class.\n",
    "    - **Class names**: The class names for the Rock, Paper, Scissors dataset are provided as `['paper', 'rock', 'scissors']`.\n",
    "    - The matrix is plotted using **`matplotlib`** with a blue color map to highlight the results.\n",
    "\n",
    "### Interpreting the Confusion Matrix\n",
    "- The confusion matrix helps us understand how the model is performing on each class.\n",
    "    - Diagonal entries represent correct predictions (true positives).\n",
    "    - Off-diagonal entries represent misclassifications (false positives/negatives).\n",
    "- By analyzing the confusion matrix, we can see if the model is struggling with any particular class or if there is a class imbalance in predictions.\n",
    "\n",
    "Finally, the confusion matrix is displayed as a plot using **matplotlib** to provide a visual overview of the model's classification performance.\n"
   ]
  },
  {
   "cell_type": "code",
   "execution_count": 19,
   "metadata": {},
   "outputs": [
    {
     "name": "stdout",
     "output_type": "stream",
     "text": [
      "Number of predictions: 372\n",
      "Number of true labels: 372\n"
     ]
    },
    {
     "data": {
      "image/png": "[encoded data removed]",
      "text/plain": [
       "<Figure size 640x480 with 2 Axes>"
      ]
     },
     "metadata": {},
     "output_type": "display_data"
    }
   ],
   "source": [
    "import torch\n",
    "from sklearn.metrics import confusion_matrix, ConfusionMatrixDisplay\n",
    "import matplotlib.pyplot as plt\n",
    "import numpy as np\n",
    "\n",
    "# Function to get predictions for the entire validation set\n",
    "def get_all_predictions(model, loader, device):\n",
    "    model.eval()\n",
    "    all_preds = []\n",
    "    all_labels = []\n",
    "\n",
    "    with torch.no_grad():\n",
    "        for inputs, labels in loader:\n",
    "            inputs, labels = inputs.to(device), labels.to(device)\n",
    "            outputs = model(inputs)\n",
    "            _, predicted = outputs.max(1)\n",
    "            all_preds.append(predicted.cpu().numpy())\n",
    "            all_labels.append(labels.cpu().numpy())\n",
    "\n",
    "    # Convert list of arrays to single numpy arrays\n",
    "    all_preds = np.concatenate(all_preds)\n",
    "    all_labels = np.concatenate(all_labels)\n",
    "    return all_preds, all_labels\n",
    "\n",
    "# Get predictions and true labels from validation data\n",
    "preds, labels = get_all_predictions(model, val_loader, device)\n",
    "# Print the shape of preds and labels\n",
    "print(f\"Number of predictions: {len(preds)}\")\n",
    "print(f\"Number of true labels: {len(labels)}\")\n",
    "# Compute the confusion matrix\n",
    "conf_matrix = confusion_matrix(labels, preds)\n",
    "\n",
    "# Display the confusion matrix\n",
    "class_names = ['paper', 'rock', 'scissors']  # Based on your dataset\n",
    "\n",
    "disp = ConfusionMatrixDisplay(confusion_matrix=conf_matrix, display_labels=class_names)\n",
    "disp.plot(cmap=plt.cm.Blues)\n",
    "plt.show()\n"
   ]
  },
  {
   "cell_type": "markdown",
   "metadata": {},
   "source": [
    "## 10. Inference on a Single Image and Logging Results to W&B\n",
    "\n",
    "In this block, we define a function to perform inference on a single image using the pre-trained model and log the results to **Weights & Biases (W&B)**. This is useful for evaluating the model's performance on individual images and visualizing the results.\n",
    "\n",
    "### Function: `infer_and_log()`\n",
    "\n",
    "- **Loading and Preprocessing**: \n",
    "    - **`Image.open(image_path).convert('RGB')`**: Opens the image from the given path and converts it to an RGB format (3-channel).\n",
    "    - **`transform(image)`**: Applies the transformation (e.g., resizing, tensor conversion) to the image, similar to how we transformed the training and validation images.\n",
    "    - **`.unsqueeze(0)`**: Adds a batch dimension to the image tensor, as the model expects input in batches.\n",
    "    - The image tensor is then moved to the specified device (GPU or CPU) using **`.to(device)`**.\n",
    "\n",
    "- **Inference**:\n",
    "    - **`model.eval()`**: The model is set to evaluation mode to disable any training-specific operations.\n",
    "    - **`torch.no_grad()`**: Disables gradient calculations to save memory and speed up inference.\n",
    "    - The model processes the image, and the predicted class is obtained by finding the index of the highest output score using **`.max(1)`**.\n",
    "    - The predicted class is then mapped to its corresponding label using the **`class_names`** list.\n",
    "\n",
    "- **Logging to Weights & Biases**:\n",
    "    - **`wandb.log()`**: Logs the original input image along with the predicted class to **W&B** for easy tracking and visualization.\n",
    "    - **`wandb.Image()`**: This function is used to log the input image along with a caption showing the predicted class.\n",
    "\n",
    "### Example Usage\n",
    "\n",
    "- **`class_names`**: The list of class names for the Rock, Paper, Scissors dataset (`['paper', 'rock', 'scissors']`).\n",
    "- **Image Path**: The path to a test image (e.g., `'rps-test-set/rock/testrock01-00.png'`).\n",
    "- **Inference and Logging**: The `infer_and_log()` function is called, which performs inference on the test image and logs the results to **W&B**.\n",
    "\n",
    "The predicted class is then printed to the console to verify the result.\n",
    "\n",
    "By using this function, you can easily evaluate the model's predictions on individual images and track those predictions through **Weights & Biases** for better analysis and visualization.\n"
   ]
  },
  {
   "cell_type": "code",
   "execution_count": 22,
   "metadata": {},
   "outputs": [
    {
     "name": "stdout",
     "output_type": "stream",
     "text": [
      "Predicted class: rock\n"
     ]
    }
   ],
   "source": [
    "from PIL import Image\n",
    "import torch\n",
    "# import wandb\n",
    "\n",
    "# Function to perform inference on a single image and log results to W&B\n",
    "def infer_and_log(model, image_path, transform, device, class_names):\n",
    "    # Load and preprocess the image\n",
    "    image = Image.open(image_path).convert('RGB')\n",
    "    image_tensor = transform(image).unsqueeze(0).to(device)  # Add batch dimension\n",
    "\n",
    "    # Put the model in evaluation mode\n",
    "    model.eval()\n",
    "\n",
    "    # Run inference\n",
    "    with torch.no_grad():\n",
    "        outputs = model(image_tensor)\n",
    "        _, predicted = outputs.max(1)\n",
    "        predicted_class = class_names[predicted.item()]\n",
    "    \n",
    "    # Log the input image and the prediction to W&B\n",
    "    # wandb.log({\n",
    "    #     \"Image\": wandb.Image(image, caption=f\"Predicted: {predicted_class}\"),\n",
    "    #     \"Prediction\": predicted_class\n",
    "    # })\n",
    "\n",
    "    return predicted_class\n",
    "\n",
    "# Example usage\n",
    "# Assuming class_names = ['paper', 'rock', 'scissors']\n",
    "class_names = ['paper', 'rock', 'scissors']\n",
    "\n",
    "# Path to the test image\n",
    "image_path = 'rps-test-set/rock/testrock01-00.png'\n",
    "\n",
    "# Run inference and log results to W&B\n",
    "predicted_class = infer_and_log(model, image_path, transform, device, class_names)\n",
    "print(f'Predicted class: {predicted_class}')\n"
   ]
  }
 ],
 "metadata": {
  "kernelspec": {
   "display_name": "venv",
   "language": "python",
   "name": "python3"
  },
  "language_info": {
   "codemirror_mode": {
    "name": "ipython",
    "version": 3
   },
   "file_extension": ".py",
   "mimetype": "text/x-python",
   "name": "python",
   "nbconvert_exporter": "python",
   "pygments_lexer": "ipython3",
   "version": "3.11.10"
  }
 },
 "nbformat": 4,
 "nbformat_minor": 2
}
