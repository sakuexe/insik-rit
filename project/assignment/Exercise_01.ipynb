{
 "cells": [
  {
   "cell_type": "markdown",
   "id": "e5915131",
   "metadata": {},
   "source": [
    "\n",
    "# AI Application Development - Exercise 01\n",
    "\n",
    "## Development Environment Overview\n",
    "\n",
    "In this exercise, we will set up the necessary development environment for working on AI applications.\n",
    "We will use Python 3.10 or higher, Jupyter Notebook, and Google Colab for cloud-based development with GPU access.\n",
    "\n",
    "### Tools we will use:\n",
    "- Python 3.10 or higher\n",
    "- Jupyter Notebook (for local development)\n",
    "- Google Colab (for cloud-based development)\n",
    "- Virtual Environments to isolate dependencies\n",
    "\n",
    "### Required Libraries:\n",
    "We will be using the following libraries:\n",
    "- `transformers`\n",
    "- `gradio`\n",
    "- `diffusers`\n",
    "- `torch` (PyTorch)\n",
    "- `numpy`\n",
    "    "
   ]
  },
  {
   "cell_type": "markdown",
   "id": "1e8db4e4",
   "metadata": {},
   "source": [
    "\n",
    "## Setting Up a Virtual Environment\n",
    "\n",
    "If you are working locally, it's best practice to use a virtual environment to manage dependencies.\n",
    "\n",
    "\n",
    "\n",
    "Once the environment is activated, install the required libraries as shown above.\n",
    "    "
   ]
  },
  {
   "cell_type": "code",
   "execution_count": null,
   "id": "4ee260ab",
   "metadata": {},
   "outputs": [],
   "source": [
    "\n",
    "# Install the necessary libraries using pip\n",
    "!pip install transformers gradio diffusers torch numpy\n",
    "    "
   ]
  },
  {
   "cell_type": "markdown",
   "id": "c386ca81",
   "metadata": {},
   "source": [
    "\n",
    "## Gradio \"Hello World\" Example\n",
    "\n",
    "Let's create a simple Gradio interface to greet the user.\n",
    "\n",
    "### Gradio Code Example:\n",
    "    "
   ]
  },
  {
   "cell_type": "code",
   "execution_count": null,
   "id": "568c8d64",
   "metadata": {},
   "outputs": [],
   "source": [
    "\n",
    "import gradio as gr\n",
    "\n",
    "def greet(name):\n",
    "    return f\"Hello, {name}!\"\n",
    "\n",
    "iface = gr.Interface(fn=greet, inputs=\"text\", outputs=\"text\")\n",
    "iface.launch()\n",
    "    "
   ]
  },
  {
   "cell_type": "markdown",
   "id": "412bb41c",
   "metadata": {},
   "source": [
    "\n",
    "## Text Generation with GPT-2\n",
    "\n",
    "Now, let's explore a pre-trained GPT-2 model using Hugging Face to generate text.\n",
    "\n",
    "### GPT-2 Text Generation Example:\n",
    "    "
   ]
  },
  {
   "cell_type": "code",
   "execution_count": null,
   "id": "f47dfa4b",
   "metadata": {},
   "outputs": [],
   "source": [
    "\n",
    "from transformers import pipeline\n",
    "\n",
    "generator = pipeline('text-generation', model='gpt2')\n",
    "prompt = \"Once upon a time,\"\n",
    "result = generator(prompt, max_length=50, num_return_sequences=1)\n",
    "print(result)\n",
    "    "
   ]
  },
  {
   "cell_type": "markdown",
   "id": "2017ac77",
   "metadata": {},
   "source": [
    "\n",
    "## Next Steps\n",
    "\n",
    "- Ensure your environment is properly set up.\n",
    "- Experiment with Gradio and GPT-2 by modifying the examples.\n",
    "- Try different prompts and parameters in the GPT-2 model to see how it affects text generation.\n",
    "    "
   ]
  }
 ],
 "metadata": {
  "kernelspec": {
   "display_name": "devAI",
   "language": "python",
   "name": "python3"
  },
  "language_info": {
   "codemirror_mode": {
    "name": "ipython",
    "version": 3
   },
   "file_extension": ".py",
   "mimetype": "text/x-python",
   "name": "python",
   "nbconvert_exporter": "python",
   "pygments_lexer": "ipython3",
   "version": "3.12.5"
  }
 },
 "nbformat": 4,
 "nbformat_minor": 5
}
